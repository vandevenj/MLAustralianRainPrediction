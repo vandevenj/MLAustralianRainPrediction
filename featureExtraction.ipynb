{
 "cells": [
  {
   "cell_type": "code",
   "execution_count": 1,
   "id": "c15e885e-06aa-4c0e-9cb5-4931961f7ade",
   "metadata": {},
   "outputs": [],
   "source": [
    "import pandas as pd\n",
    "from sklearn.metrics import mean_squared_error\n",
    "\n",
    "# read in dataset with date column parsed\n",
    "df = pd.read_csv('cleanedWeatherAUS.csv',\n",
    "    parse_dates=['Date'],\n",
    "    index_col='Date')\n",
    "\n",
    "# split dataset, 80% train 20% test\n",
    "from sklearn.model_selection import train_test_split\n",
    "y = df['RainTomorrow']\n",
    "xs = df[df.columns.difference(['RainTomorrow'])]\n",
    "x_train, x_test, y_train, y_test = train_test_split(xs, y, test_size=0.2, train_size=0.8)\n"
   ]
  },
  {
   "cell_type": "code",
   "execution_count": 3,
   "id": "5d2071cf-e714-4455-bdf1-859a000cac35",
   "metadata": {},
   "outputs": [
    {
     "name": "stdout",
     "output_type": "stream",
     "text": [
      "21\n",
      "Score for test:  0.8441225078237632\n",
      "RMSE for test:  0.1564752628432786\n",
      "M:  19\n"
     ]
    }
   ],
   "source": [
    "# dimension reduction? via PCA\n",
    "\n",
    "from sklearn.decomposition import PCA \n",
    "from sklearn.model_selection import GridSearchCV\n",
    "from sklearn.linear_model import LogisticRegression\n",
    "\n",
    "\n",
    "pca = PCA()\n",
    "\n",
    "print(len(x_train.columns))\n",
    "rmse = 1\n",
    "min_test_error = 1\n",
    "for m in range(1, len(x_train.columns)): # M = # columns of data?\n",
    "    # apply PCA to dataset\n",
    "    pca.n_components = m\n",
    "    \n",
    "    x_train_copy = x_train.copy()\n",
    "    x_test_copy = x_test.copy()\n",
    "    x_train_copy = pca.fit_transform(x_train_copy)\n",
    "    x_test_copy = pca.transform(x_test_copy)\n",
    "    \n",
    "#     fit a linear regression model using cross-validation\n",
    "    model = LogisticRegression()\n",
    "    cv = GridSearchCV(model, {}, refit=True, cv=5)\n",
    "    cv = cv.fit(x_train_copy, y_train)\n",
    "    y_pred = cv.predict(x_test_copy)\n",
    "    \n",
    "    rmse = mean_squared_error(y_test, y_pred)\n",
    "    if rmse < min_test_error:\n",
    "        min_test_error = rmse\n",
    "        score = cv.score(x_test_copy, y_test)\n",
    "        best_m = m\n",
    "        \n",
    "    \n",
    "# obtain test error\n",
    "print(\"Score for test: \", score)\n",
    "print(\"RMSE for test: \", rmse)\n",
    "\n",
    "# obtain value of M \n",
    "print(\"M: \", best_m) # obtain what columns are included???"
   ]
  },
  {
   "cell_type": "markdown",
   "id": "baed80b7-2c23-41f3-8190-7df779cfc45c",
   "metadata": {},
   "source": [
    "# BEWARE!"
   ]
  },
  {
   "cell_type": "code",
   "execution_count": null,
   "id": "9c9a00cc-5f7d-4f9e-a558-a63836c13f7e",
   "metadata": {},
   "outputs": [],
   "source": [
    "NOTE: DO NOT RERUN THE SEQUENTIAL FEATURE SELECTOR WITHOUT GOOD REASON. IT TAKES >15 MINUTES!!!!!\n",
    "\n",
    "BE WARNED!!!!"
   ]
  },
  {
   "cell_type": "code",
   "execution_count": 6,
   "id": "63747e0e-274f-4245-9456-e9e418e5568f",
   "metadata": {},
   "outputs": [
    {
     "name": "stderr",
     "output_type": "stream",
     "text": [
      "[Parallel(n_jobs=1)]: Using backend SequentialBackend with 1 concurrent workers.\n",
      "[Parallel(n_jobs=1)]: Done   1 out of   1 | elapsed:    6.5s remaining:    0.0s\n",
      "[Parallel(n_jobs=1)]: Done  21 out of  21 | elapsed:  2.1min finished\n",
      "\n",
      "[2023-04-07 17:13:46] Features: 1/5 -- score: 0.8232061956943324[Parallel(n_jobs=1)]: Using backend SequentialBackend with 1 concurrent workers.\n",
      "[Parallel(n_jobs=1)]: Done   1 out of   1 | elapsed:    9.1s remaining:    0.0s\n",
      "[Parallel(n_jobs=1)]: Done  20 out of  20 | elapsed:  3.0min finished\n",
      "\n",
      "[2023-04-07 17:16:49] Features: 2/5 -- score: 0.8276719860158301[Parallel(n_jobs=1)]: Using backend SequentialBackend with 1 concurrent workers.\n",
      "[Parallel(n_jobs=1)]: Done   1 out of   1 | elapsed:    6.6s remaining:    0.0s\n",
      "[Parallel(n_jobs=1)]: Done  19 out of  19 | elapsed:  2.8min finished\n",
      "\n",
      "[2023-04-07 17:19:34] Features: 3/5 -- score: 0.8269950814865764[Parallel(n_jobs=1)]: Using backend SequentialBackend with 1 concurrent workers.\n",
      "[Parallel(n_jobs=1)]: Done   1 out of   1 | elapsed:    9.1s remaining:    0.0s\n",
      "[Parallel(n_jobs=1)]: Done  18 out of  18 | elapsed:  3.6min finished\n",
      "\n",
      "[2023-04-07 17:23:07] Features: 4/5 -- score: 0.8178789152125182[Parallel(n_jobs=1)]: Using backend SequentialBackend with 1 concurrent workers.\n",
      "[Parallel(n_jobs=1)]: Done   1 out of   1 | elapsed:   11.8s remaining:    0.0s\n",
      "[Parallel(n_jobs=1)]: Done  17 out of  17 | elapsed:  3.6min finished\n",
      "\n",
      "[2023-04-07 17:26:45] Features: 5/5 -- score: 0.8114879479274189"
     ]
    }
   ],
   "source": [
    "# feature selection\n",
    "\n",
    "\n",
    "from mlxtend.feature_selection import SequentialFeatureSelector as sfs\n",
    "from sklearn.ensemble import RandomForestClassifier\n",
    "\n",
    "\n",
    "\n",
    "\n",
    "# Build RF classifier to use in feature selection\n",
    "clf = RandomForestClassifier(n_estimators=100, n_jobs=-1)\n",
    "\n",
    "# Build step forward feature selection\n",
    "sfs1 = sfs(clf,\n",
    "           k_features=5,\n",
    "           forward=True,\n",
    "           floating=False,\n",
    "           verbose=2,\n",
    "           scoring='accuracy',\n",
    "           cv=5)\n",
    "\n",
    "# Perform SFFS\n",
    "sfs1 = sfs1.fit(x_train, y_train)\n",
    "\n",
    "\n"
   ]
  },
  {
   "cell_type": "code",
   "execution_count": 7,
   "id": "05460e59-3192-47eb-8ffc-81584eeae8a3",
   "metadata": {},
   "outputs": [
    {
     "name": "stdout",
     "output_type": "stream",
     "text": [
      "[0, 1, 3, 10, 11]\n"
     ]
    }
   ],
   "source": [
    "feat_cols = list(sfs1.k_feature_idx_)\n",
    "print(feat_cols)"
   ]
  },
  {
   "cell_type": "code",
   "execution_count": 9,
   "id": "b302ab3b-4599-401f-a3f0-6c0ee07113a6",
   "metadata": {},
   "outputs": [
    {
     "name": "stdout",
     "output_type": "stream",
     "text": [
      "['Location', 'MinTemp', 'Rainfall', 'WindSpeed9am', 'WindSpeed3pm']\n",
      "{1: {'feature_idx': (3,), 'cv_scores': array([0.82440332, 0.82457914, 0.824711  , 0.82154631, 0.82079121]), 'avg_score': 0.8232061956943324, 'feature_names': ('Humidity3pm',)}, 2: {'feature_idx': (3, 10), 'cv_scores': array([0.8289306 , 0.82765593, 0.82875478, 0.8262494 , 0.82676923]), 'avg_score': 0.8276719860158301, 'feature_names': ('Humidity3pm', 'RainToday')}, 3: {'feature_idx': (0, 3, 10), 'cv_scores': array([0.82857896, 0.82664498, 0.82967782, 0.82457914, 0.82549451]), 'avg_score': 0.8269950814865764, 'feature_names': ('Cloud3pm', 'Humidity3pm', 'RainToday')}, 4: {'feature_idx': (0, 1, 3, 10), 'cv_scores': array([0.81956837, 0.8188651 , 0.81943651, 0.81552459, 0.816     ]), 'avg_score': 0.8178789152125182, 'feature_names': ('Cloud3pm', 'Cloud9am', 'Humidity3pm', 'RainToday')}, 5: {'feature_idx': (0, 1, 3, 10, 11), 'cv_scores': array([0.8102501 , 0.81152477, 0.8118764 , 0.81227199, 0.81151648]), 'avg_score': 0.8114879479274189, 'feature_names': ('Cloud3pm', 'Cloud9am', 'Humidity3pm', 'RainToday', 'Rainfall')}}\n"
     ]
    }
   ],
   "source": [
    "print('The top features are:', [df.columns[x] for x in feat_cols])\n",
    "print(sfs1.subsets_)"
   ]
  },
  {
   "cell_type": "markdown",
   "id": "05765bb2-6afb-4b81-9826-0dd6c8849aaf",
   "metadata": {},
   "source": [
    "From the previous output of the \"subsets\" intermediate results, I see that the CV scores decrease with each added column after 2. \n",
    "The features per each number of features are:\n",
    "1: 'Humidity3pm', \n",
    "2: 'RainToday'\n",
    "3: 'Cloud3pm',\n",
    "4: 'Cloud9am',\n",
    "5: 'Rainfall',\n",
    "Not sure what to make of the scores. \n"
   ]
  }
 ],
 "metadata": {
  "kernelspec": {
   "display_name": "Python 3 (ipykernel)",
   "language": "python",
   "name": "python3"
  },
  "language_info": {
   "codemirror_mode": {
    "name": "ipython",
    "version": 3
   },
   "file_extension": ".py",
   "mimetype": "text/x-python",
   "name": "python",
   "nbconvert_exporter": "python",
   "pygments_lexer": "ipython3",
   "version": "3.9.2"
  }
 },
 "nbformat": 4,
 "nbformat_minor": 5
}
