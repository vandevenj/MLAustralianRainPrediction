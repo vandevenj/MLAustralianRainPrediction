{
 "cells": [
  {
   "cell_type": "markdown",
   "id": "b9efb0f2",
   "metadata": {},
   "source": [
    "# Random Forest Prediction \n"
   ]
  },
  {
   "cell_type": "code",
   "execution_count": 15,
   "id": "b4cc5365",
   "metadata": {},
   "outputs": [],
   "source": [
    "import pandas as pd\n",
    "from sklearn.model_selection import train_test_split\n",
    "from sklearn.ensemble import RandomForestClassifier\n",
    "from sklearn.metrics import accuracy_score\n",
    "from sklearn.impute import SimpleImputer\n",
    "from sklearn.metrics import confusion_matrix"
   ]
  },
  {
   "cell_type": "code",
   "execution_count": 16,
   "id": "da0e91a6",
   "metadata": {},
   "outputs": [],
   "source": [
    "# read in dataset with date column parsed\n",
    "df = pd.read_csv('cleanedWeatherAUS.csv',\n",
    "    parse_dates=['Date'],\n",
    "    index_col='Date')\n",
    "\n",
    "# drop samples with missing target values\n",
    "df = df[df['RainTomorrow'].notna()]\n",
    "\n",
    "# impute missing feature values\n",
    "imputer = SimpleImputer(strategy='mean')\n",
    "imputed_df = pd.DataFrame(imputer.fit_transform(df), columns=df.columns, index=df.index)\n"
   ]
  },
  {
   "cell_type": "code",
   "execution_count": 17,
   "id": "d1e6d964",
   "metadata": {},
   "outputs": [],
   "source": [
    "# split data into training and testing sets\n",
    "X_train, X_test, y_train, y_test = train_test_split(imputed_df.drop('RainTomorrow', axis=1), imputed_df['RainTomorrow'], test_size=0.2, random_state=42)\n"
   ]
  },
  {
   "cell_type": "code",
   "execution_count": 18,
   "id": "e9e3ed96",
   "metadata": {},
   "outputs": [
    {
     "name": "stdout",
     "output_type": "stream",
     "text": [
      "Accuracy Score: 0.8176818369311151\n",
      "Confusion Matrix: [[21416   596     0]\n",
      " [ 4198  2219     3]\n",
      " [  454    53   153]]\n"
     ]
    }
   ],
   "source": [
    "# Initialize the random forest classifier with hyperparameters\n",
    "rfc = RandomForestClassifier(n_estimators=100, max_depth=5, random_state=42)\n",
    "\n",
    "# Train the random forest classifier on the training data\n",
    "rfc.fit(X_train, y_train)\n",
    "\n",
    "# Make predictions on the testing data\n",
    "y_pred = rfc.predict(X_test)\n",
    "\n",
    "\n",
    "# Calculate the accuracy score\n",
    "accuracy = accuracy_score(y_test, y_pred)\n",
    "print('Accuracy Score:', accuracy)\n",
    "\n",
    "# Calculate the confusion matrix\n",
    "cm = confusion_matrix(y_test, y_pred)\n",
    "print('Confusion Matrix:', cm)\n"
   ]
  },
  {
   "cell_type": "code",
   "execution_count": 24,
   "id": "8619a29f",
   "metadata": {},
   "outputs": [
    {
     "name": "stdout",
     "output_type": "stream",
     "text": [
      "Precision: 0.8146000343951012\n",
      "Recall: 0.8176818369311151\n",
      "F1 Score: 0.7879990680372982\n",
      "AUC-ROC Score (micro): 0.9432782642978333\n"
     ]
    }
   ],
   "source": [
    "# Calculate the precision, recall, and F1 score\n",
    "from sklearn.metrics import precision_recall_fscore_support\n",
    "precision, recall, f1, _ = precision_recall_fscore_support(y_test, y_pred, average=\"weighted\")\n",
    "print('Precision:', precision)\n",
    "print('Recall:', recall)\n",
    "print('F1 Score:', f1)\n",
    "\n",
    "# Micro averaging for multiclass classification\n",
    "from sklearn.metrics import roc_auc_score\n",
    "y_prob = rfc.predict_proba(X_test)\n",
    "auc = roc_auc_score(pd.get_dummies(y_test).values.ravel(), y_prob.ravel())\n",
    "print('AUC-ROC Score (micro):', auc)"
   ]
  },
  {
   "cell_type": "code",
   "execution_count": null,
   "id": "202ce5eb",
   "metadata": {},
   "outputs": [],
   "source": []
  }
 ],
 "metadata": {
  "kernelspec": {
   "display_name": "Python 3 (ipykernel)",
   "language": "python",
   "name": "python3"
  },
  "language_info": {
   "codemirror_mode": {
    "name": "ipython",
    "version": 3
   },
   "file_extension": ".py",
   "mimetype": "text/x-python",
   "name": "python",
   "nbconvert_exporter": "python",
   "pygments_lexer": "ipython3",
   "version": "3.9.13"
  }
 },
 "nbformat": 4,
 "nbformat_minor": 5
}
