{
 "cells": [
  {
   "cell_type": "markdown",
   "id": "b9efb0f2",
   "metadata": {},
   "source": [
    "# Random Forest Prediction \n"
   ]
  },
  {
   "cell_type": "code",
   "execution_count": 1,
   "id": "b4cc5365",
   "metadata": {},
   "outputs": [],
   "source": [
    "import pandas as pd\n",
    "from sklearn.model_selection import train_test_split\n",
    "from sklearn.ensemble import RandomForestRegressor\n",
    "from sklearn.metrics import mean_squared_error\n",
    "from sklearn.impute import SimpleImputer\n"
   ]
  },
  {
   "cell_type": "code",
   "execution_count": 2,
   "id": "da0e91a6",
   "metadata": {},
   "outputs": [],
   "source": [
    "# read in dataset with date column parsed\n",
    "df = pd.read_csv('cleanedWeatherAUS.csv',\n",
    "    parse_dates=['Date'],\n",
    "    index_col='Date')\n",
    "\n",
    "# drop samples with missing target values\n",
    "df = df[df['RainTomorrow'].notna()]\n",
    "\n",
    "# impute missing feature values\n",
    "imputer = SimpleImputer(strategy='mean')\n",
    "imputed_df = pd.DataFrame(imputer.fit_transform(df), columns=df.columns, index=df.index)\n"
   ]
  },
  {
   "cell_type": "code",
   "execution_count": 3,
   "id": "d1e6d964",
   "metadata": {},
   "outputs": [],
   "source": [
    "# split data into training and testing sets\n",
    "X_train, X_test, y_train, y_test = train_test_split(imputed_df.drop('RainTomorrow', axis=1), imputed_df['RainTomorrow'], test_size=0.2, random_state=42)\n",
    "\n"
   ]
  },
  {
   "cell_type": "code",
   "execution_count": 5,
   "id": "e9e3ed96",
   "metadata": {},
   "outputs": [
    {
     "name": "stdout",
     "output_type": "stream",
     "text": [
      "Mean Squared Error: 0.15612987519306606\n",
      "R-Squared Score: 0.35119407540219605\n"
     ]
    }
   ],
   "source": [
    "# Initialize the random forest regressor with hyperparameters\n",
    "rf = RandomForestRegressor(n_estimators=100, max_depth=5, random_state=42)\n",
    "\n",
    "# Train the random forest regressor on the training data\n",
    "rf.fit(X_train, y_train)\n",
    "\n",
    "# Make predictions on the testing data\n",
    "y_pred = rf.predict(X_test)\n",
    "\n",
    "# Calculate the mean squared error\n",
    "mse = mean_squared_error(y_test, y_pred)\n",
    "print('Mean Squared Error:', mse)\n",
    "\n",
    "# Calculate the r2 score \n",
    "r2_score = rf.score(X_test, y_test)\n",
    "print('R-Squared Score:', r2_score)\n"
   ]
  },
  {
   "cell_type": "code",
   "execution_count": null,
   "id": "8619a29f",
   "metadata": {},
   "outputs": [],
   "source": []
  },
  {
   "cell_type": "code",
   "execution_count": null,
   "id": "202ce5eb",
   "metadata": {},
   "outputs": [],
   "source": []
  }
 ],
 "metadata": {
  "kernelspec": {
   "display_name": "Python 3 (ipykernel)",
   "language": "python",
   "name": "python3"
  },
  "language_info": {
   "codemirror_mode": {
    "name": "ipython",
    "version": 3
   },
   "file_extension": ".py",
   "mimetype": "text/x-python",
   "name": "python",
   "nbconvert_exporter": "python",
   "pygments_lexer": "ipython3",
   "version": "3.9.13"
  }
 },
 "nbformat": 4,
 "nbformat_minor": 5
}
