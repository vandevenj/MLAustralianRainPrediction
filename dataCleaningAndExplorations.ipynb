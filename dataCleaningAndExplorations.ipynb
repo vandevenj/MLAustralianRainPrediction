{
 "cells": [
  {
   "cell_type": "markdown",
   "id": "f477da30-1217-4a1a-ae10-f234fd4b83be",
   "metadata": {},
   "source": [
    "# Data Cleaning and Visualization\n",
    "\n",
    "There are 23 columns and 145460 rows in this dataset. The goal is to predict the `RainTomorrow` variable."
   ]
  },
  {
   "cell_type": "code",
   "execution_count": 49,
   "id": "601c28b5-63dd-4daa-95a3-5f3678ff0e74",
   "metadata": {},
   "outputs": [
    {
     "name": "stdout",
     "output_type": "stream",
     "text": [
      "DF Row Info:\n",
      "\tTotal number of rows: 145460\n",
      "\tPercentage of original number of rows: 1.0\n",
      "\tTotal number of rows with the RainTomorrow = true: 35144\n",
      "\tPercentage of dataset that has RainTomorrow = true: 0.24160593977725836\n",
      "Total number of non-NA values per column:\n",
      "Date             145460\n",
      "Location         145460\n",
      "MinTemp          143975\n",
      "MaxTemp          144199\n",
      "Rainfall         142199\n",
      "Evaporation       82670\n",
      "Sunshine          75625\n",
      "WindGustDir      135134\n",
      "WindGustSpeed    135197\n",
      "WindDir9am       134894\n",
      "WindDir3pm       141232\n",
      "WindSpeed9am     143693\n",
      "WindSpeed3pm     142398\n",
      "Humidity9am      142806\n",
      "Humidity3pm      140953\n",
      "Pressure9am      130395\n",
      "Pressure3pm      130432\n",
      "Cloud9am          89572\n",
      "Cloud3pm          86102\n",
      "Temp9am          143693\n",
      "Temp3pm          141851\n",
      "RainToday        145460\n",
      "RainTomorrow     145460\n",
      "dtype: int64\n",
      "DF Row Info:\n",
      "\tTotal number of rows: 145460\n",
      "\tPercentage of original number of rows: 1.0\n",
      "\tTotal number of rows with the RainTomorrow = true: 35144\n",
      "\tPercentage of dataset that has RainTomorrow = true: 0.24160593977725836\n",
      "DF Row Info:\n",
      "\tTotal number of rows: 113679\n",
      "\tPercentage of original number of rows: 0.7815138182318163\n",
      "\tTotal number of rows with the RainTomorrow = true: 25773\n",
      "\tPercentage of dataset that has RainTomorrow = true: 0.226717335655662\n",
      "Unique wind direction values: ['W' 'WNW' 'WSW' 'NE' 'NNW' 'N' 'NNE' 'SW' 'ENE' 'SSE' 'S' 'NW' 'SE' 'ESE'\n",
      " 'E' 'SSW']\n"
     ]
    }
   ],
   "source": [
    "import pandas as pd\n",
    "import numpy as np\n",
    "\n",
    "# helper function to get quick row info\n",
    "def getDfRowInfo(dataframe):\n",
    "    print('DF Row Info:')\n",
    "    print('\\tTotal number of rows:', len(df.index))\n",
    "    print('\\tPercentage of original number of rows:', len(df.index) / 145460)\n",
    "    print('\\tTotal number of rows with the RainTomorrow = true:', len([x for x in df['RainTomorrow'] if x == 1]))\n",
    "    print('\\tPercentage of dataset that has RainTomorrow = true:', len([x for x in df['RainTomorrow'] if x == 1]) / len(df.index))\n",
    "\n",
    "# -----------------------\n",
    "# read in dataset\n",
    "df = pd.read_csv('weatherAUS.csv')\n",
    "\n",
    "# transform binary string to binary 0 or 1 values\n",
    "df['RainToday'] = df['RainToday'].transform(lambda x: 0 if x == 'No' else 1)\n",
    "df['RainTomorrow'] = df['RainTomorrow'].transform(lambda x: 0 if x == 'No' else 1)\n",
    "\n",
    "getDfRowInfo(df)\n",
    "\n",
    "\n",
    "# ------------------------\n",
    "# print out the number of non-NA values per column\n",
    "print('Total number of non-NA values per column:')\n",
    "print(df.count(0))\n",
    "\n",
    "# TODO: what to do with rows that are NA values? remove columns that are half full of NAs? replace NAs with 0 or some value?\n",
    "# have two datasets to compare?\n",
    "\n",
    "# remove columns with mostly NA values?: Sunshine, Evaporation, Cloud9am, Cloud3pm\n",
    "df = df.drop(['Sunshine', 'Evaporation', 'Cloud9am', 'Cloud3pm'], axis=1)\n",
    "getDfRowInfo(df)\n",
    "\n",
    " \n",
    "# remove rows that have any NA values? - no, this removes 61% of the rows before removing the 4 columns above\n",
    "# after removing the above 4 columns, it removes 22% of the rows\n",
    "df = df.dropna()\n",
    "getDfRowInfo(df)\n",
    "\n",
    "# -------------------------\n",
    "# TODO: what to do with location column that is string geographic data? does it matter, should we drop it?\n",
    "# TODO: what to do with date column that is time series data?\n",
    "# TODO: what to do with wind direction columns that are 17 enumerations of strings of cardinal directions, including NaN?\n",
    "print('Unique wind direction values:', df['WindGustDir'].unique())\n",
    "\n",
    "# -------------------------\n",
    "# preview data\n",
    "# df.head()\n",
    "# print(df.describe())"
   ]
  },
  {
   "cell_type": "code",
   "execution_count": 48,
   "id": "d341d003-4620-4269-ad3a-3ff47acab08d",
   "metadata": {},
   "outputs": [],
   "source": [
    "# write cleaned dataset to new file\n",
    "\n",
    "df.to_csv('cleanedWeatherAUS.csv')"
   ]
  },
  {
   "cell_type": "code",
   "execution_count": null,
   "id": "4282138e-c4ca-4b8a-aa43-2f9513da6690",
   "metadata": {},
   "outputs": [],
   "source": [
    "# do some initial analysis? data visualizations on the dataset content\n"
   ]
  }
 ],
 "metadata": {
  "kernelspec": {
   "display_name": "Python 3 (ipykernel)",
   "language": "python",
   "name": "python3"
  },
  "language_info": {
   "codemirror_mode": {
    "name": "ipython",
    "version": 3
   },
   "file_extension": ".py",
   "mimetype": "text/x-python",
   "name": "python",
   "nbconvert_exporter": "python",
   "pygments_lexer": "ipython3",
   "version": "3.9.2"
  }
 },
 "nbformat": 4,
 "nbformat_minor": 5
}
